{
 "nbformat": 4,
 "nbformat_minor": 0,
 "metadata": {
  "colab": {
   "provenance": []
  },
  "kernelspec": {
   "name": "python3",
   "language": "python",
   "display_name": "Python 3 (ipykernel)"
  },
  "language_info": {
   "name": "python"
  }
 },
 "cells": [
  {
   "cell_type": "code",
   "execution_count": 3,
   "metadata": {
    "id": "ctJzCbR2uOgE",
    "ExecuteTime": {
     "end_time": "2023-05-28T09:07:12.289686400Z",
     "start_time": "2023-05-28T09:07:12.247727600Z"
    }
   },
   "outputs": [],
   "source": [
    "#Import NLTK\n",
    "#Before preprocessing, we need to first download the NLTK library.\n"
   ]
  },
  {
   "cell_type": "code",
   "source": [
    "%pip install nltk\n"
   ],
   "metadata": {
    "colab": {
     "base_uri": "https://localhost:8080/"
    },
    "id": "sH3jfqKluaHI",
    "outputId": "95f9052c-d6e5-4c9e-aaf2-ca09a90c0717",
    "ExecuteTime": {
     "end_time": "2023-05-28T09:07:13.602545600Z",
     "start_time": "2023-05-28T09:07:12.256510Z"
    }
   },
   "execution_count": 4,
   "outputs": [
    {
     "name": "stdout",
     "output_type": "stream",
     "text": [
      "Defaulting to user installation because normal site-packages is not writeable\n",
      "Requirement already satisfied: nltk in c:\\users\\magar\\appdata\\roaming\\python\\python310\\site-packages (3.8.1)\n",
      "Requirement already satisfied: click in c:\\users\\magar\\appdata\\roaming\\python\\python310\\site-packages (from nltk) (8.1.3)\n",
      "Requirement already satisfied: joblib in c:\\users\\magar\\appdata\\roaming\\python\\python310\\site-packages (from nltk) (1.2.0)\n",
      "Requirement already satisfied: regex>=2021.8.3 in c:\\users\\magar\\appdata\\roaming\\python\\python310\\site-packages (from nltk) (2023.5.5)\n",
      "Requirement already satisfied: tqdm in c:\\users\\magar\\appdata\\roaming\\python\\python310\\site-packages (from nltk) (4.65.0)\n",
      "Requirement already satisfied: colorama in c:\\users\\magar\\appdata\\roaming\\python\\python310\\site-packages (from click->nltk) (0.4.4)\n",
      "Note: you may need to restart the kernel to use updated packages.\n"
     ]
    }
   ]
  },
  {
   "cell_type": "code",
   "source": [
    "#Give Input as ant test\n",
    "\n",
    "text = \"It is a truth universally acknowledged, that a single man in possession of a good fortune, must be in want of a wife.\"\n",
    "text = text.lower()\n",
    "print(text)\n"
   ],
   "metadata": {
    "colab": {
     "base_uri": "https://localhost:8080/"
    },
    "id": "_MBViqdzudd2",
    "outputId": "0e01dd3c-5354-4ace-8a0b-81532baee611",
    "ExecuteTime": {
     "end_time": "2023-05-28T09:07:13.661818400Z",
     "start_time": "2023-05-28T09:07:13.603731200Z"
    }
   },
   "execution_count": 5,
   "outputs": [
    {
     "name": "stdout",
     "output_type": "stream",
     "text": [
      "it is a truth universally acknowledged, that a single man in possession of a good fortune, must be in want of a wife.\n"
     ]
    }
   ]
  },
  {
   "cell_type": "code",
   "source": [
    "text = \"It is a truth universally acknowledged, that a single man in possession of a good fortune, must be in want of a wife.\"\n",
    "text = text.lower()\n",
    "print(text)\n"
   ],
   "metadata": {
    "colab": {
     "base_uri": "https://localhost:8080/"
    },
    "id": "2xQ4hMdCufsL",
    "outputId": "04388232-dec4-44b1-f15e-301b6e403f2e",
    "ExecuteTime": {
     "end_time": "2023-05-28T09:07:13.661818400Z",
     "start_time": "2023-05-28T09:07:13.618034100Z"
    }
   },
   "execution_count": 6,
   "outputs": [
    {
     "name": "stdout",
     "output_type": "stream",
     "text": [
      "it is a truth universally acknowledged, that a single man in possession of a good fortune, must be in want of a wife.\n"
     ]
    }
   ]
  },
  {
   "cell_type": "code",
   "source": [
    "import string\n",
    "print(string.punctuation)\n"
   ],
   "metadata": {
    "colab": {
     "base_uri": "https://localhost:8080/"
    },
    "id": "-8K4FNVEum10",
    "outputId": "d9932b0e-dd23-4326-f4ef-50ea75a0b136",
    "ExecuteTime": {
     "end_time": "2023-05-28T09:07:13.662990100Z",
     "start_time": "2023-05-28T09:07:13.636669400Z"
    }
   },
   "execution_count": 7,
   "outputs": [
    {
     "name": "stdout",
     "output_type": "stream",
     "text": [
      "!\"#$%&'()*+,-./:;<=>?@[\\]^_`{|}~\n"
     ]
    }
   ]
  },
  {
   "cell_type": "code",
   "source": [
    "text_p = \"\".join([char for char in text if char not in string.punctuation])\n",
    "print(text_p)\n"
   ],
   "metadata": {
    "colab": {
     "base_uri": "https://localhost:8080/"
    },
    "id": "Cc5gNR5EusnV",
    "outputId": "b7fd59fa-5631-4298-8995-659a9e34f1ca",
    "ExecuteTime": {
     "end_time": "2023-05-28T09:07:13.674135800Z",
     "start_time": "2023-05-28T09:07:13.650203400Z"
    }
   },
   "execution_count": 8,
   "outputs": [
    {
     "name": "stdout",
     "output_type": "stream",
     "text": [
      "it is a truth universally acknowledged that a single man in possession of a good fortune must be in want of a wife\n"
     ]
    }
   ]
  },
  {
   "cell_type": "code",
   "source": [
    "#Tokenization\n",
    "#Strings can be tokenized into tokens via nltk.word_tokenize.\n"
   ],
   "metadata": {
    "id": "9L3FQnK0uvLf",
    "ExecuteTime": {
     "end_time": "2023-05-28T09:07:13.679946300Z",
     "start_time": "2023-05-28T09:07:13.664357Z"
    }
   },
   "execution_count": 9,
   "outputs": []
  },
  {
   "cell_type": "code",
   "source": [
    "\n",
    "import nltk\n",
    "nltk.download('punkt')\n",
    "\n",
    "from nltk import word_tokenize\n",
    "from nltk import sent_tokenize\n",
    "words = word_tokenize(text_p)\n",
    "words1 = sent_tokenize(text_p)\n",
    "\n",
    "print(words)\n",
    "print(words1)\n"
   ],
   "metadata": {
    "colab": {
     "base_uri": "https://localhost:8080/"
    },
    "id": "JzchWZpvuxmR",
    "outputId": "48d680ca-13ae-4b90-8f3a-12db8a946394",
    "ExecuteTime": {
     "end_time": "2023-05-28T09:07:18.152668900Z",
     "start_time": "2023-05-28T09:07:13.684462300Z"
    }
   },
   "execution_count": 10,
   "outputs": [
    {
     "name": "stdout",
     "output_type": "stream",
     "text": [
      "['it', 'is', 'a', 'truth', 'universally', 'acknowledged', 'that', 'a', 'single', 'man', 'in', 'possession', 'of', 'a', 'good', 'fortune', 'must', 'be', 'in', 'want', 'of', 'a', 'wife']\n",
      "['it is a truth universally acknowledged that a single man in possession of a good fortune must be in want of a wife']\n"
     ]
    },
    {
     "name": "stderr",
     "output_type": "stream",
     "text": [
      "[nltk_data] Downloading package punkt to\n",
      "[nltk_data]     C:\\Users\\magar\\AppData\\Roaming\\nltk_data...\n",
      "[nltk_data]   Package punkt is already up-to-date!\n"
     ]
    }
   ]
  },
  {
   "cell_type": "code",
   "source": [
    "nltk.download('stopwords')\n",
    "\n",
    "from nltk.corpus import stopwords\n",
    "stop_words = stopwords.words('english')\n",
    "print(stop_words)\n"
   ],
   "metadata": {
    "colab": {
     "base_uri": "https://localhost:8080/"
    },
    "id": "lif6W_wuvyX7",
    "outputId": "2cbf8c26-5ed6-4ad3-df82-9d7b28f7a885",
    "ExecuteTime": {
     "end_time": "2023-05-28T09:07:18.228922800Z",
     "start_time": "2023-05-28T09:07:18.155276100Z"
    }
   },
   "execution_count": 11,
   "outputs": [
    {
     "name": "stdout",
     "output_type": "stream",
     "text": [
      "['i', 'me', 'my', 'myself', 'we', 'our', 'ours', 'ourselves', 'you', \"you're\", \"you've\", \"you'll\", \"you'd\", 'your', 'yours', 'yourself', 'yourselves', 'he', 'him', 'his', 'himself', 'she', \"she's\", 'her', 'hers', 'herself', 'it', \"it's\", 'its', 'itself', 'they', 'them', 'their', 'theirs', 'themselves', 'what', 'which', 'who', 'whom', 'this', 'that', \"that'll\", 'these', 'those', 'am', 'is', 'are', 'was', 'were', 'be', 'been', 'being', 'have', 'has', 'had', 'having', 'do', 'does', 'did', 'doing', 'a', 'an', 'the', 'and', 'but', 'if', 'or', 'because', 'as', 'until', 'while', 'of', 'at', 'by', 'for', 'with', 'about', 'against', 'between', 'into', 'through', 'during', 'before', 'after', 'above', 'below', 'to', 'from', 'up', 'down', 'in', 'out', 'on', 'off', 'over', 'under', 'again', 'further', 'then', 'once', 'here', 'there', 'when', 'where', 'why', 'how', 'all', 'any', 'both', 'each', 'few', 'more', 'most', 'other', 'some', 'such', 'no', 'nor', 'not', 'only', 'own', 'same', 'so', 'than', 'too', 'very', 's', 't', 'can', 'will', 'just', 'don', \"don't\", 'should', \"should've\", 'now', 'd', 'll', 'm', 'o', 're', 've', 'y', 'ain', 'aren', \"aren't\", 'couldn', \"couldn't\", 'didn', \"didn't\", 'doesn', \"doesn't\", 'hadn', \"hadn't\", 'hasn', \"hasn't\", 'haven', \"haven't\", 'isn', \"isn't\", 'ma', 'mightn', \"mightn't\", 'mustn', \"mustn't\", 'needn', \"needn't\", 'shan', \"shan't\", 'shouldn', \"shouldn't\", 'wasn', \"wasn't\", 'weren', \"weren't\", 'won', \"won't\", 'wouldn', \"wouldn't\"]\n"
     ]
    },
    {
     "name": "stderr",
     "output_type": "stream",
     "text": [
      "[nltk_data] Downloading package stopwords to\n",
      "[nltk_data]     C:\\Users\\magar\\AppData\\Roaming\\nltk_data...\n",
      "[nltk_data]   Package stopwords is already up-to-date!\n"
     ]
    }
   ]
  },
  {
   "cell_type": "code",
   "source": [
    "filtered_words = [word for word in words if word not in stop_words]\n",
    "print(filtered_words)\n"
   ],
   "metadata": {
    "colab": {
     "base_uri": "https://localhost:8080/"
    },
    "id": "ssUes4efv2Mf",
    "outputId": "7188f274-23d6-4aa1-f468-439fe0e9e069",
    "ExecuteTime": {
     "end_time": "2023-05-28T09:07:18.229922400Z",
     "start_time": "2023-05-28T09:07:18.186972900Z"
    }
   },
   "execution_count": 12,
   "outputs": [
    {
     "name": "stdout",
     "output_type": "stream",
     "text": [
      "['truth', 'universally', 'acknowledged', 'single', 'man', 'possession', 'good', 'fortune', 'must', 'want', 'wife']\n"
     ]
    }
   ]
  },
  {
   "cell_type": "markdown",
   "source": [
    "Stemming\n",
    "We stem the tokens using nltk.stem.porter.PorterStemmer to get the stemmed tokens.\n"
   ],
   "metadata": {
    "id": "afW7jrxJv8Sw"
   }
  },
  {
   "cell_type": "code",
   "source": [
    "from nltk.stem.porter import PorterStemmer\n",
    "porter = PorterStemmer()\n",
    "stemmed = [porter.stem(word) for word in filtered_words]\n",
    "print(stemmed)\n"
   ],
   "metadata": {
    "colab": {
     "base_uri": "https://localhost:8080/"
    },
    "id": "mb-VIbt4v5Mb",
    "outputId": "1a68427d-a2f9-46ce-b93c-e98b83009264",
    "ExecuteTime": {
     "end_time": "2023-05-28T09:07:18.229922400Z",
     "start_time": "2023-05-28T09:07:18.215303800Z"
    }
   },
   "execution_count": 13,
   "outputs": [
    {
     "name": "stdout",
     "output_type": "stream",
     "text": [
      "['truth', 'univers', 'acknowledg', 'singl', 'man', 'possess', 'good', 'fortun', 'must', 'want', 'wife']\n"
     ]
    }
   ]
  },
  {
   "cell_type": "code",
   "source": [
    "import nltk\n",
    "nltk.download('averaged_perceptron_tagger')\n",
    "\n",
    "from nltk import pos_tag\n",
    "pos = pos_tag(filtered_words)\n",
    "print(pos)\n"
   ],
   "metadata": {
    "colab": {
     "base_uri": "https://localhost:8080/"
    },
    "id": "oGvSpg4qv_ha",
    "outputId": "fb06110a-33be-4845-9c11-11ef8518fad7",
    "ExecuteTime": {
     "end_time": "2023-05-28T09:07:18.403784Z",
     "start_time": "2023-05-28T09:07:18.221068Z"
    }
   },
   "execution_count": 14,
   "outputs": [
    {
     "name": "stderr",
     "output_type": "stream",
     "text": [
      "[nltk_data] Downloading package averaged_perceptron_tagger to\n",
      "[nltk_data]     C:\\Users\\magar\\AppData\\Roaming\\nltk_data...\n",
      "[nltk_data]   Package averaged_perceptron_tagger is already up-to-\n",
      "[nltk_data]       date!\n"
     ]
    },
    {
     "name": "stdout",
     "output_type": "stream",
     "text": [
      "[('truth', 'NN'), ('universally', 'RB'), ('acknowledged', 'VBD'), ('single', 'JJ'), ('man', 'NN'), ('possession', 'NN'), ('good', 'JJ'), ('fortune', 'NN'), ('must', 'MD'), ('want', 'VB'), ('wife', 'NN')]\n"
     ]
    }
   ]
  },
  {
   "cell_type": "markdown",
   "source": [
    "Conclusion\n",
    "Text preprocessing is an important first step for any NLP application. \n",
    "In this lab we discussed several popular preprocessing approaches using NLTK: \n",
    "lowercase, removing punctuation, tokenization, stopword filtering, stemming, and part-of-speech tagger.\n"
   ],
   "metadata": {
    "id": "NMu2JfP8wFYy"
   }
  }
 ]
}
