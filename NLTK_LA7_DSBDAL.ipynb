{
 "cells": [
  {
   "cell_type": "code",
   "execution_count": 1,
   "id": "3e28cd3c",
   "metadata": {
    "ExecuteTime": {
     "end_time": "2023-05-27T11:30:50.735113200Z",
     "start_time": "2023-05-27T11:30:50.721201100Z"
    }
   },
   "outputs": [],
   "source": [
    "#Import NLTK\n",
    "#Before preprocessing, we need to first download the NLTK library."
   ]
  },
  {
   "cell_type": "code",
   "execution_count": null,
   "id": "58f86623",
   "metadata": {
    "is_executing": true,
    "ExecuteTime": {
     "start_time": "2023-05-27T11:30:50.736118300Z"
    }
   },
   "outputs": [],
   "source": [
    "pip install nltk"
   ]
  },
  {
   "cell_type": "code",
   "execution_count": null,
   "id": "2c8c2daa",
   "metadata": {
    "is_executing": true
   },
   "outputs": [],
   "source": [
    "#Give Input as ant test\n",
    "\n",
    "text = \"It is a truth universally acknowledged, that a single man in possession of a good fortune, must be in want of a wife.\"\n",
    "text = text.lower()\n",
    "print(text)"
   ]
  },
  {
   "cell_type": "code",
   "execution_count": null,
   "id": "223076d9",
   "metadata": {
    "is_executing": true
   },
   "outputs": [],
   "source": [
    "import string\n",
    "print(string.punctuation)"
   ]
  },
  {
   "cell_type": "code",
   "execution_count": null,
   "id": "aa957aab",
   "metadata": {
    "is_executing": true
   },
   "outputs": [],
   "source": [
    "text_p = \"\".join([char for char in text if char not in string.punctuation])\n",
    "print(text_p)\n"
   ]
  },
  {
   "cell_type": "code",
   "execution_count": null,
   "id": "0878415d",
   "metadata": {
    "is_executing": true
   },
   "outputs": [],
   "source": [
    "#Tokenization\n",
    "#Strings can be tokenized into tokens via nltk.word_tokenize.\n"
   ]
  },
  {
   "cell_type": "code",
   "execution_count": null,
   "id": "b149f12c",
   "metadata": {
    "is_executing": true
   },
   "outputs": [],
   "source": [
    "\n",
    "import nltk\n",
    "nltk.download('punkt')\n",
    "\n",
    "from nltk import word_tokenize\n",
    "from nltk import sent_tokenize\n",
    "words = word_tokenize(text_p)\n",
    "words1 = sent_tokenize(text_p)\n",
    "\n",
    "print(words)\n",
    "print(words1)\n"
   ]
  },
  {
   "cell_type": "code",
   "execution_count": null,
   "id": "c8eabb77",
   "metadata": {
    "is_executing": true
   },
   "outputs": [],
   "source": [
    "nltk.download('stopwords')\n",
    "\n",
    "from nltk.corpus import stopwords\n",
    "stop_words = stopwords.words('english')\n",
    "print(stop_words)\n"
   ]
  },
  {
   "cell_type": "code",
   "execution_count": null,
   "id": "5193a3cf",
   "metadata": {
    "is_executing": true
   },
   "outputs": [],
   "source": [
    "filtered_words = [word for word in words if word not in stop_words]\n",
    "print(filtered_words)\n"
   ]
  },
  {
   "cell_type": "code",
   "execution_count": null,
   "id": "ea2b08b8",
   "metadata": {
    "is_executing": true
   },
   "outputs": [],
   "source": [
    "from nltk.stem.porter import PorterStemmer\n",
    "porter = PorterStemmer()\n",
    "stemmed = [porter.stem(word) for word in filtered_words]\n",
    "print(stemmed)\n"
   ]
  },
  {
   "cell_type": "code",
   "execution_count": null,
   "id": "31d5cd13",
   "metadata": {
    "is_executing": true
   },
   "outputs": [],
   "source": [
    "import nltk\n",
    "nltk.download('averaged_perceptron_tagger')\n",
    "\n",
    "from nltk import pos_tag\n",
    "pos = pos_tag(filtered_words)\n",
    "print(pos)\n"
   ]
  },
  {
   "cell_type": "markdown",
   "id": "0e2dcdc1",
   "metadata": {},
   "source": [
    "# Conclusion Text preprocessing is an important first step for any NLP application. In this lab we discussed several popular preprocessing approaches using NLTK: lowercase, removing punctuation, tokenization, stopword filtering, stemming, and part-of-speech tagger."
   ]
  },
  {
   "cell_type": "code",
   "execution_count": null,
   "id": "1f1b6070",
   "metadata": {
    "is_executing": true
   },
   "outputs": [],
   "source": []
  },
  {
   "cell_type": "code",
   "execution_count": null,
   "id": "31775e24",
   "metadata": {
    "is_executing": true
   },
   "outputs": [],
   "source": []
  }
 ],
 "metadata": {
  "kernelspec": {
   "display_name": "Python 3 (ipykernel)",
   "language": "python",
   "name": "python3"
  },
  "language_info": {
   "codemirror_mode": {
    "name": "ipython",
    "version": 3
   },
   "file_extension": ".py",
   "mimetype": "text/x-python",
   "name": "python",
   "nbconvert_exporter": "python",
   "pygments_lexer": "ipython3",
   "version": "3.9.7"
  }
 },
 "nbformat": 4,
 "nbformat_minor": 5
}
